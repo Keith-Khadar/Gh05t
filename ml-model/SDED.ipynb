{
 "cells": [
  {
   "cell_type": "markdown",
   "metadata": {},
   "source": [
    "# Statistical Deviation Event Detector"
   ]
  },
  {
   "cell_type": "markdown",
   "metadata": {},
   "source": [
    "For the eye activation detection task, there is a clear trend in the data - measuring the data with open eyes outputs a clearly different DC Voltage than measuring the data with eyes closed. This can be observed in the sample data below."
   ]
  },
  {
   "cell_type": "markdown",
   "metadata": {},
   "source": [
    "### Imports"
   ]
  },
  {
   "cell_type": "code",
   "execution_count": null,
   "metadata": {},
   "outputs": [],
   "source": [
    "import numpy as np\n",
    "import pandas as pd\n",
    "import matplotlib.pyplot as plt\n",
    "from scipy.signal import butter, filtfilt, welch"
   ]
  },
  {
   "cell_type": "code",
   "execution_count": null,
   "metadata": {},
   "outputs": [],
   "source": [
    "#Digilent WaveForms Oscilloscope Acquisition\n",
    "#Device Name: Discovery2\n",
    "#Serial Number: SN:210321B5D9FA\n",
    "#Date Time: 2025-02-13 12:33:16.223\n",
    "#Sample rate: 136.533Hz\n",
    "#Samples: 5800\n",
    "#Trigger: Source: Channel 1 Type: Edge Condition: Rising Level: 0 V Hyst.: Auto HoldOff: 0 s\n",
    "#Channel 1: Range: 200 mV/div Offset: -2 V Sample Mode: Average\n",
    "#Channel 2: Range: 500 mV/div Offset: 0 V Sample Mode: Average\n",
    "#Power Supplies: ON\n",
    "#Positive Supply: ON\n",
    "#Voltage: 5 V\n",
    "#Negative Supply: ON\n",
    "#Voltage: -5 V"
   ]
  },
  {
   "cell_type": "markdown",
   "metadata": {},
   "source": [
    "## Statistical Deviation Event Detector Calculations"
   ]
  },
  {
   "cell_type": "code",
   "execution_count": null,
   "metadata": {},
   "outputs": [],
   "source": [
    "def apply_sded_fixed(x, eff_dc, alpha, delta):\n",
    "    meas = np.abs(x - eff_dc)\n",
    "    alpha_red = alpha/2\n",
    "    if meas > delta:\n",
    "        new_eff_dc = alpha_red * x + (1 - alpha_red) * eff_dc\n",
    "        spike = 1\n",
    "    else:\n",
    "        new_eff_dc = alpha * x + (1 - alpha) * eff_dc\n",
    "        spike = 0\n",
    "    return new_eff_dc, meas, spike\n",
    "\n",
    "\n",
    "def apply_sded_adaptive(x, eff_dc, alpha_dc, alpha_delta, delta):\n",
    "    meas = np.abs(x - eff_dc)\n",
    "    alpha_dc_red = alpha_dc/2\n",
    "    alpha_delta_red = alpha_delta/2\n",
    "    if meas > delta:\n",
    "        new_delta = np.sqrt(alpha_delta_red * meas**2 + (1 - alpha_delta_red) * delta**2)\n",
    "        spike = 1\n",
    "        new_eff_dc = alpha_dc_red * x + (1 - alpha_dc_red) * eff_dc\n",
    "    else:\n",
    "        new_delta = np.sqrt(alpha_delta * meas**2 + (1 - alpha_delta) * delta**2)\n",
    "        spike = 0\n",
    "        new_eff_dc = alpha_dc * x + (1 - alpha_dc) * eff_dc\n",
    "    return new_eff_dc, new_delta, meas, spike\n",
    "\n",
    "def apply_sded_full_fixed_threshold(x, alpha, delta, initial_eff_dc=0):\n",
    "    eff_dc = np.zeros_like(x)\n",
    "    eff_dc[0] = initial_eff_dc\n",
    "    measures = np.zeros_like(x)\n",
    "    spikes = np.zeros_like(x)\n",
    "    for i in range(1, len(x)):\n",
    "        eff_dc[i], measures[i], spikes[i] = apply_sded_fixed(x[i], eff_dc[i-1], alpha, delta)\n",
    "    return eff_dc, measures, spikes\n",
    "\n",
    "def apply_sded_full_adaptive_threshold(x, alpha_dc, alpha_delta, delta_0, initial_eff_dc=0):\n",
    "    eff_dc = np.zeros_like(x)\n",
    "    eff_dc[0] = initial_eff_dc\n",
    "    adaptive_delta = np.zeros_like(x)\n",
    "    adaptive_delta[0] = delta_0\n",
    "    measures = np.zeros_like(x)\n",
    "    spikes = np.zeros_like(x)\n",
    "    for i in range(1, len(x)):\n",
    "        eff_dc[i], adaptive_delta[i], measures[i], spikes[i] = apply_sded_adaptive(x[i], eff_dc[i-1], alpha_dc, alpha_delta, adaptive_delta[i-1])\n",
    "    return eff_dc, adaptive_delta, measures, spikes"
   ]
  },
  {
   "cell_type": "markdown",
   "metadata": {},
   "source": [
    "### SDED Prototype Experiments (Python)"
   ]
  },
  {
   "cell_type": "markdown",
   "metadata": {},
   "source": [
    "#### SDED Fixed $\\delta$"
   ]
  },
  {
   "cell_type": "code",
   "execution_count": null,
   "metadata": {},
   "outputs": [],
   "source": [
    "scale = 1.2\n",
    "deviation = 0.005477277382981891 # Empirically determined standard deviation threshold\n",
    "delta = scale*deviation # Empirically determined standard deviation threshold\n",
    "alpha = 0.005\n",
    "initial_eff_dc = 0.6\n",
    "\n",
    "avg_std = 0\n",
    "\n",
    "#for i in range(10):\n",
    "for i in range(10):\n",
    "    # Load the data\n",
    "    data = pd.read_csv(f'eye_blinking{i}.csv', delimiter=',')\n",
    "    # Drop Channel2\n",
    "    data = data.drop(columns=['Channel2'])\n",
    "    voltage = data['Channel1']\n",
    "    time = data['Time']\n",
    "    N = len(voltage)\n",
    "    # Apply the filter\n",
    "    _, dc_removed_voltage, spike_train = apply_sded_full_fixed_threshold(voltage, alpha, delta, initial_eff_dc)\n",
    "\n",
    "    # Plot the event detection\n",
    "    plt.figure(figsize=(10, 6))\n",
    "    plt.plot(time, spike_train, 'b', label='Spike Train')\n",
    "    plt.plot(time, dc_removed_voltage, 'r', label='DC-Removed Signal')\n",
    "    plt.legend()\n",
    "    plt.xlabel('Time')\n",
    "    plt.ylabel('Voltage')\n",
    "    plt.title(f'Eye Active Event Detection Data {i}')\n",
    "    plt.show()\n"
   ]
  },
  {
   "cell_type": "markdown",
   "metadata": {},
   "source": [
    "#### SDED Adaptive $\\delta$"
   ]
  },
  {
   "cell_type": "code",
   "execution_count": null,
   "metadata": {},
   "outputs": [],
   "source": [
    "scale = 2.5\n",
    "deviation = 0.005477277382981891 # Empirically determined standard deviation threshold\n",
    "delta = scale*deviation # Empirically determined standard deviation threshold\n",
    "alpha_dc = 0.005\n",
    "alpha_delta = 0.0002\n",
    "initial_eff_dc = 0.6\n",
    "\n",
    "avg_std = 0\n",
    "\n",
    "#for i in range(10):\n",
    "for i in range(10):\n",
    "    # Load the data\n",
    "    data = pd.read_csv(f'eye_blinking{i}.csv', delimiter=',')\n",
    "    # Drop Channel2\n",
    "    data = data.drop(columns=['Channel2'])\n",
    "    voltage = data['Channel1']\n",
    "    time = data['Time']\n",
    "    N = len(voltage)\n",
    "    # Apply the filter\n",
    "    _, _, dc_removed_voltage, spike_train = apply_sded_full_adaptive_threshold(voltage, alpha_dc, alpha_delta, delta, initial_eff_dc)\n",
    "\n",
    "    # Plot the event detection\n",
    "    plt.figure(figsize=(10, 6))\n",
    "    plt.plot(time, spike_train, 'b', label='Spike Train')\n",
    "    plt.plot(time, dc_removed_voltage, 'r', label='DC-Removed Signal')\n",
    "    plt.legend()\n",
    "    plt.xlabel('Time')\n",
    "    plt.ylabel('Voltage')\n",
    "    plt.title(f'Eye Active Event Detection Data {i}')\n",
    "    plt.show()"
   ]
  },
  {
   "cell_type": "markdown",
   "metadata": {},
   "source": [
    "### SDED Evaluation Experiment (C)"
   ]
  },
  {
   "cell_type": "markdown",
   "metadata": {},
   "source": [
    "To use the C code, download the SDED.C file, and compile with the corresponding compiler. For Linux, the command:\n",
    "```\n",
    "gcc SDED.C -o sded -lm\n",
    "./sded\n",
    "```\n",
    "\n",
    "Can validate the results obtained above on your own dataset. For real-time functions, the ```apply_sded``` function should be used in an online-fashion. This means, it can and should be used per input received."
   ]
  },
  {
   "cell_type": "code",
   "execution_count": null,
   "metadata": {},
   "outputs": [],
   "source": [
    "for i in range(10):\n",
    "    data = pd.read_csv(f'output{i}.csv', delimiter=',')\n",
    "\n",
    "    plt.figure(figsize=(10, 6))\n",
    "    plt.plot(data['Time'], data['DC_Removed'])\n",
    "    plt.plot(data['Time'], data['Spike'])\n",
    "\n",
    "    plt.title(f'Eye Blinking {i}')\n",
    "    plt.xlabel('Time')\n",
    "    plt.ylabel('Voltage')\n",
    "    plt.title(f'Eye Blinking {i}')\n",
    "    plt.show()\n"
   ]
  }
 ],
 "metadata": {
  "kernelspec": {
   "display_name": "rapids-pytorch",
   "language": "python",
   "name": "python3"
  },
  "language_info": {
   "codemirror_mode": {
    "name": "ipython",
    "version": 3
   },
   "file_extension": ".py",
   "mimetype": "text/x-python",
   "name": "python",
   "nbconvert_exporter": "python",
   "pygments_lexer": "ipython3",
   "version": "3.10.13"
  }
 },
 "nbformat": 4,
 "nbformat_minor": 2
}
